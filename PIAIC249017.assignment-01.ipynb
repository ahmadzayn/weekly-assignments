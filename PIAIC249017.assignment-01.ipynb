{
 "cells": [
  {
   "cell_type": "markdown",
   "metadata": {},
   "source": [
    "Exercise 3-1: Names\n",
    "Store the names of a few of your friends in a list called names. Print each person’s name by accessing each element in the list, one at a time."
   ]
  },
  {
   "cell_type": "code",
   "execution_count": 242,
   "metadata": {},
   "outputs": [
    {
     "name": "stdout",
     "output_type": "stream",
     "text": [
      "names of friends list mentioned below:\n",
      "abdul\n",
      "ahmad\n",
      "shaban\n",
      "abu-baker\n"
     ]
    }
   ],
   "source": [
    "print(\"names of friends list mentioned below:\")\n",
    "names: list = ['abdul', 'ahmad', 'shaban', 'abu-baker']\n",
    "for name in names:\n",
    "    print(f\"{name}\")"
   ]
  },
  {
   "cell_type": "markdown",
   "metadata": {},
   "source": [
    "Exercise 3-2: Greetings\n",
    "Start with the list you used in Exercise 3-1, but instead of just printing each person’s name, print a message to them. The text of each message should be the same, but each message should be personalized with the person’s name."
   ]
  },
  {
   "cell_type": "code",
   "execution_count": 243,
   "metadata": {},
   "outputs": [
    {
     "name": "stdout",
     "output_type": "stream",
     "text": [
      "hello! abdul how are you doing?\n",
      "hello! ahmad how are you doing?\n",
      "hello! shaban how are you doing?\n",
      "hello! abu-baker how are you doing?\n"
     ]
    }
   ],
   "source": [
    "# for name in names is a loop that will iterate through the list of names and print each name in the list.\n",
    "names: list = ['abdul', 'ahmad', 'shaban', 'abu-baker']\n",
    "for name in names: #name takes the name from list and then pass it and print it can be anything like friend instead of word name\n",
    "    print(f\"hello! {name} how are you doing?\")\n"
   ]
  },
  {
   "cell_type": "markdown",
   "metadata": {},
   "source": [
    "Exercise 3-3: Your Own List\n",
    "Think of your favorite mode of transportation, such as a motorcycle or a car, and make a list that stores several examples. Use your list to print a series of statements about these items, such as “I would like to own a Honda motorcycle.”"
   ]
  },
  {
   "cell_type": "code",
   "execution_count": 244,
   "metadata": {},
   "outputs": [
    {
     "name": "stdout",
     "output_type": "stream",
     "text": [
      "i would love to drive a toyota someday\n",
      "i would love to drive a nissan someday\n",
      "i would love to drive a bmw someday\n",
      "i would love to drive a benz someday\n"
     ]
    }
   ],
   "source": [
    "fav_car: list = ['toyota', 'nissan', 'bmw', 'benz']\n",
    "for car in fav_car:\n",
    "    print(f\"i would love to drive a {car} someday\") #instead of loop it can also be done by using indexing to print each element in the list"
   ]
  },
  {
   "cell_type": "markdown",
   "metadata": {},
   "source": [
    "Exercise 3-4: Guest List\n",
    "If you could invite anyone, living or deceased, to dinner, who would you invite? Make a list that includes at least three people you’d like to invite to dinner. Then use your list to print a message to each person, inviting them to dinner.\n",
    "\n"
   ]
  },
  {
   "cell_type": "code",
   "execution_count": 245,
   "metadata": {},
   "outputs": [
    {
     "name": "stdout",
     "output_type": "stream",
     "text": [
      "dinner invitation for my friends :\n",
      "hello! abdul you are invited to my dinner party on 1st january 2025\n",
      "hello! ahmad you are invited to my dinner party on 1st january 2025\n",
      "hello! shaban you are invited to my dinner party on 1st january 2025\n",
      "hello! abu-baker you are invited to my dinner party on 1st january 2025\n"
     ]
    }
   ],
   "source": [
    "print(\"dinner invitation for my friends :\")\n",
    "dinner_invitation: list = ['abdul', 'ahmad', 'shaban', 'abu-baker']\n",
    "for name in dinner_invitation:\n",
    "    print(f\"hello! {name} you are invited to my dinner party on 1st january 2025\")"
   ]
  },
  {
   "cell_type": "markdown",
   "metadata": {},
   "source": [
    "Exercise 3-5: Changing Guest List\n",
    "You just heard that one of your guests can’t make the dinner, so you need to send out a new set of invitations.\n",
    "\n",
    "Start with your program from Exercise 3-4. Add a print() call at the end of your program, stating the name of the guest who can’t make it.\n",
    "Modify your list, replacing the name of the guest who can’t make it with the name of the new person you are inviting.\n",
    "Print a second set of invitation messages, one for each person who is still in your list"
   ]
  },
  {
   "cell_type": "code",
   "execution_count": 246,
   "metadata": {},
   "outputs": [
    {
     "name": "stdout",
     "output_type": "stream",
     "text": [
      "Dinner invitation for my friends:\n",
      "\n",
      "Hello! abdul, you are invited to my dinner party on 1st January 2025.\n",
      "Hello! ahmad, you are invited to my dinner party on 1st January 2025.\n",
      "Hello! shaban, you are invited to my dinner party on 1st January 2025.\n",
      "Hello! abu-baker, you are invited to my dinner party on 1st January 2025.\n",
      "\n",
      "Sorry! I just came to know that Abdul will not be able to make it to the dinner party.\n",
      "\n",
      "Updated dinner invitation for my friends:\n",
      "\n",
      "['ahmad', 'shaban', 'abu-baker', 'ali']\n",
      "\n",
      "Hello! ahmad, you are invited to my dinner party on 1st January 2025.\n",
      "Hello! shaban, you are invited to my dinner party on 1st January 2025.\n",
      "Hello! abu-baker, you are invited to my dinner party on 1st January 2025.\n",
      "Hello! ali, you are invited to my dinner party on 1st January 2025.\n"
     ]
    }
   ],
   "source": [
    "print(\"Dinner invitation for my friends:\\n\")\n",
    "\n",
    "# Initial list of guests\n",
    "dinner_invitation = ['abdul', 'ahmad', 'shaban', 'abu-baker']\n",
    "\n",
    "# Print initial invitations\n",
    "for name in dinner_invitation:\n",
    "    print(f\"Hello! {name}, you are invited to my dinner party on 1st January 2025.\")\n",
    "\n",
    "# Announcement about a guest who can't make it\n",
    "print(\"\\nSorry! I just came to know that Abdul will not be able to make it to the dinner party.\")\n",
    "\n",
    "# Update the guest list\n",
    "dinner_invitation.remove('abdul')  # Remove 'abdul'\n",
    "dinner_invitation.append('ali')  # Add 'ali'\n",
    "\n",
    "\n",
    "# Print updated invitations\n",
    "print(\"\\nUpdated dinner invitation for my friends:\\n\")   \n",
    "\n",
    "print(f\"{dinner_invitation}\\n\")\n",
    "\n",
    "for name in dinner_invitation:\n",
    "    print(f\"Hello! {name}, you are invited to my dinner party on 1st January 2025.\")"
   ]
  },
  {
   "cell_type": "markdown",
   "metadata": {},
   "source": [
    "Exercise 3-6: More Guests\n",
    "You just found a bigger dinner table, so now more space is available. Think of three more guests to invite to dinner.\n",
    "\n",
    "Start with your program from Exercise 3-4 or 3-5. Add a print() call to the end of your program, informing people that you found a bigger table.\n",
    "Use insert() to add one new guest to the beginning of your list.\n",
    "Use insert() to add one new guest to the middle of your list.\n",
    "Use append() to add one new guest to the end of your list.\n",
    "Print a new set of invitation messages, one for each person in your list."
   ]
  },
  {
   "cell_type": "code",
   "execution_count": 253,
   "metadata": {},
   "outputs": [
    {
     "name": "stdout",
     "output_type": "stream",
     "text": [
      "Dinner invitation for my friends:\n",
      "\n",
      "Hello! abdul, you are invited to my dinner party on 1st January 2025.\n",
      "Hello! ahmad, you are invited to my dinner party on 1st January 2025.\n",
      "Hello! shaban, you are invited to my dinner party on 1st January 2025.\n",
      "Hello! abu-baker, you are invited to my dinner party on 1st January 2025.\n",
      "\n",
      "Sorry! I just came to know that Abdul will not be able to make it to the dinner party.\n",
      "\n",
      "Updated dinner invitation for my friends:\n",
      "\n",
      "['ahmad', 'shaban', 'abu-baker', 'ali']\n",
      "\n",
      "Hello! ahmad, you are invited to my dinner party on 1st January 2025.\n",
      "Hello! shaban, you are invited to my dinner party on 1st January 2025.\n",
      "Hello! abu-baker, you are invited to my dinner party on 1st January 2025.\n",
      "Hello! ali, you are invited to my dinner party on 1st January 2025.\n",
      "\n",
      "Great news! found a bigger dinner table, so I am inviting more guests.\n",
      "\n",
      "['khalid', 'ahmad', 'mohammed', 'shaban', 'abu-baker', 'ali', 'zaid']\n",
      "\n",
      "Hello! khalid, you are invited to my dinner party on 1st January 2025.\n",
      "Hello! ahmad, you are invited to my dinner party on 1st January 2025.\n",
      "Hello! mohammed, you are invited to my dinner party on 1st January 2025.\n",
      "Hello! shaban, you are invited to my dinner party on 1st January 2025.\n",
      "Hello! abu-baker, you are invited to my dinner party on 1st January 2025.\n",
      "Hello! ali, you are invited to my dinner party on 1st January 2025.\n",
      "Hello! zaid, you are invited to my dinner party on 1st January 2025.\n"
     ]
    }
   ],
   "source": [
    "print(\"Dinner invitation for my friends:\\n\")\n",
    "\n",
    "# Initial list of guests\n",
    "dinner_invitation = ['abdul', 'ahmad', 'shaban', 'abu-baker']\n",
    "\n",
    "# Print initial invitations\n",
    "for name in dinner_invitation:\n",
    "    print(f\"Hello! {name}, you are invited to my dinner party on 1st January 2025.\")\n",
    "\n",
    "# Announcement about a guest who can't make it\n",
    "print(\"\\nSorry! I just came to know that Abdul will not be able to make it to the dinner party.\")\n",
    "\n",
    "# Update the guest list\n",
    "dinner_invitation.remove('abdul')  # Remove 'abdul'\n",
    "dinner_invitation.append('ali')  # Add 'ali'\n",
    "\n",
    "\n",
    "# Print updated invitations\n",
    "print(\"\\nUpdated dinner invitation for my friends:\\n\")   \n",
    "\n",
    "print(f\"{dinner_invitation}\\n\")\n",
    "\n",
    "for name in dinner_invitation:\n",
    "    print(f\"Hello! {name}, you are invited to my dinner party on 1st January 2025.\")\n",
    "\n",
    "# Add more guests to the list\n",
    "\n",
    "print(\"\\nGreat news! found a bigger dinner table, so I am inviting more guests.\\n\")\n",
    "\n",
    "dinner_invitation.insert(0, 'khalid')  # Add 'khalid' at the beginning of the list\n",
    "dinner_invitation.insert(2, 'mohammed')  # Add 'mohammed' in the middle of the list\n",
    "dinner_invitation.append('zaid')  # Add 'zaid' at the end of the list   \n",
    "print(f\"{dinner_invitation}\\n\")\n",
    "\n",
    "for name in dinner_invitation:\n",
    "    print(f\"Hello! {name}, you are invited to my dinner party on 1st January 2025.\")\n"
   ]
  },
  {
   "cell_type": "markdown",
   "metadata": {},
   "source": [
    "Exercise 3-7: Shrinking Guest List\n",
    "You just found out that your new dinner table won’t arrive in time for the dinner, and now you have space for only two guests.\n",
    "\n",
    "Start with your program from Exercise 3-6. Add a new line that prints a message saying that you can invite only two people for dinner.\n",
    "Use pop() to remove guests from your list one at a time until only two names remain in your list. Each time you pop a name from your list, print a message to that person letting them know you’re sorry you can’t invite them to dinner.\n",
    "Print a message to each of the two people still on your list, letting them know they’re still invited.\n",
    "Use del to remove the last two names from your list, so you have an empty list. Print your list to make sure you actually have an empty list at the end of your program.\n"
   ]
  },
  {
   "cell_type": "code",
   "execution_count": 254,
   "metadata": {},
   "outputs": [
    {
     "name": "stdout",
     "output_type": "stream",
     "text": [
      "\n",
      "I just found out that our new dinner table won’t arrive in time for the dinner, and now you have space for only two guests.\n",
      "\n",
      "sorry! khalid you are not invited to the dinner party\n",
      "sorry! ahmad you are not invited to the dinner party\n",
      "sorry! mohammed you are not invited to the dinner party\n",
      "sorry! shaban you are not invited to the dinner party\n",
      "sorry! abu-baker you are not invited to the dinner party\n",
      "\n",
      "list of final guests: ['ali', 'zaid']\n",
      "\n",
      "Hello! ali, you are still invited to my dinner party on 1st January 2025.\n",
      "Hello! zaid, you are still invited to my dinner party on 1st January 2025.\n",
      "Empty the list\n",
      "\n",
      "[]\n"
     ]
    }
   ],
   "source": [
    "# TABLE CANCELLED\n",
    "print(\"\\nI just found out that our new dinner table won’t arrive in time for the dinner, and now you have space for only two guests.\\n\")\n",
    "\n",
    "\n",
    "# when pop remove the element from the list at [0] index and then list is  shift the rest of the elements to the left\n",
    "# thats why the first element is removed and then the second element is removed by using pop same indexing[0]\n",
    "#it can also be done by using while loop to remove the elements from the list\n",
    "#while len(dinner_invitation) > 2:\n",
    "    #removed_guest = dinner_invitation.pop()  # Remove the last guest\n",
    "    #print(f\"Sorry! {removed_guest}, you are not invited to the dinner party.\")\n",
    "\n",
    "\n",
    "# Remove guests from the list\n",
    "removed_guest1 = dinner_invitation.pop(0)  \n",
    "print(f\"sorry! {removed_guest1} you are not invited to the dinner party\")\n",
    "\n",
    "removed_guest2 = dinner_invitation.pop(0)  \n",
    "print(f\"sorry! {removed_guest2} you are not invited to the dinner party\") \n",
    "                                                                    \n",
    "removed_guest3 = dinner_invitation.pop(0)\n",
    "print(f\"sorry! {removed_guest3} you are not invited to the dinner party\")\n",
    "\n",
    "removed_guest4 = dinner_invitation.pop(0)\n",
    "print(f\"sorry! {removed_guest4} you are not invited to the dinner party\")\n",
    "\n",
    "removed_guest5 = dinner_invitation.pop(0)\n",
    "print(f\"sorry! {removed_guest5} you are not invited to the dinner party\")\n",
    "\n",
    "# Print the list of final guests\n",
    "\n",
    "final_guests = print(f\"\\nlist of final guests: {dinner_invitation}\")  # Only two guests are left\n",
    "print(f\"\\nHello! {dinner_invitation[0]}, you are still invited to my dinner party on 1st January 2025.\")\n",
    "print(f\"Hello! {dinner_invitation[1]}, you are still invited to my dinner party on 1st January 2025.\")\n",
    "\n",
    " \n",
    "# Empty the list\n",
    "print(\"Empty the list\\n\")\n",
    "\n",
    "del dinner_invitation[0]  # Remove the first guest\n",
    "del dinner_invitation[0]  # Remove the second guest\n",
    "\n",
    "print(f\"{dinner_invitation}\")  # Empty list\n",
    "\n",
    "\n",
    "\n",
    "\n",
    "\n",
    "\n",
    "\n",
    "\n"
   ]
  },
  {
   "cell_type": "markdown",
   "metadata": {},
   "source": [
    "Think of at least five places in the world you’d like to visit.\n",
    "\n",
    "Store the locations in a list. Make sure the list is not in alphabetical order.\n",
    "Print your list in its original order. Don’t worry about printing the list neatly; just print it as a raw Python list.\n",
    "Use sorted() to print your list in alphabetical order without modifying the actual list.\n",
    "Show that your list is still in its original order by printing it.\n",
    "Use sorted() to print your list in reverse-alphabetical order without changing the order of the original list.\n",
    "Show that your list is still in its original order by printing it again.\n",
    "Use reverse() to change the order of your list. Print the list to show that its order has changed.\n",
    "Use reverse() to change the order of your list again. Print the list to show it’s back to its original order.\n",
    "Use sort() to change your list so it’s stored in alphabetical order. Print the list to show that its order has been changed.\n",
    "Use sort() to change your list so it’s stored in reverse-alphabetical order. Print the list to show that its order has changed."
   ]
  },
  {
   "cell_type": "code",
   "execution_count": 250,
   "metadata": {},
   "outputs": [
    {
     "name": "stdout",
     "output_type": "stream",
     "text": [
      "Original list of locations:\n",
      "['makkah', 'madina', 'jerusalem', 'baghdad', 'scotland', 'Turkey']\n",
      "\n",
      "Sorted list of locations (alphabetical order):\n",
      "Sorted list: ['Turkey', 'baghdad', 'jerusalem', 'madina', 'makkah', 'scotland']\n",
      "\n",
      "Reversed list of locations (current order reversed):\n",
      "Reversed list: ['scotland', 'makkah', 'madina', 'jerusalem', 'baghdad', 'Turkey']\n",
      "\n",
      "Reversing the list again to restore previous order:\n",
      "Restored list: ['Turkey', 'baghdad', 'jerusalem', 'madina', 'makkah', 'scotland']\n",
      "\n",
      "Sorting the list again in alphabetical order:\n",
      "Sorted list again: ['Turkey', 'baghdad', 'jerusalem', 'madina', 'makkah', 'scotland']\n",
      "\n",
      "Reversing the list again (current order reversed):\n",
      "Reversed list: ['scotland', 'makkah', 'madina', 'jerusalem', 'baghdad', 'Turkey']\n"
     ]
    }
   ],
   "source": [
    "locations = ['makkah', 'madina', 'jerusalem', 'baghdad', 'scotland', 'Turkey']  # List of locations\n",
    "\n",
    "print(\"Original list of locations:\")\n",
    "print(locations)  # Print the original list of locations\n",
    "\n",
    "print(\"\\nSorted list of locations (alphabetical order):\")\n",
    "locations.sort()  # Sort the list in alphabetical order\n",
    "print(f\"Sorted list: {locations}\")  # Print the sorted list of locations\n",
    "\n",
    "print(\"\\nReversed list of locations (current order reversed):\")\n",
    "locations.reverse()  # Reverse the order of the list\n",
    "print(f\"Reversed list: {locations}\")  # Print the reversed list\n",
    "\n",
    "print(\"\\nReversing the list again to restore previous order:\")\n",
    "locations.reverse()  # Reverse the order again to restore the previous state\n",
    "print(f\"Restored list: {locations}\")  # Print the restored list\n",
    "\n",
    "print(\"\\nSorting the list again in alphabetical order:\")\n",
    "locations.sort()  # Sort the list in alphabetical order again\n",
    "print(f\"Sorted list again: {locations}\")  # Print the sorted list\n",
    "\n",
    "print(\"\\nReversing the list again (current order reversed):\")\n",
    "locations.reverse()  # Reverse the order of the sorted list\n",
    "print(f\"Reversed list: {locations}\")  # Print the reversed list"
   ]
  },
  {
   "cell_type": "markdown",
   "metadata": {},
   "source": [
    "Exercise 3-9: Dinner Guests\n",
    "Working with one of the programs from Exercises 3-4 through 3-7, use len() to print a message indicating the number of people you’re inviting to dinner."
   ]
  },
  {
   "cell_type": "code",
   "execution_count": 212,
   "metadata": {},
   "outputs": [
    {
     "name": "stdout",
     "output_type": "stream",
     "text": [
      "number of people invited to the dinner party:\n",
      "Total number of guests invited: 2\n"
     ]
    }
   ],
   "source": [
    "print(\"number of people invited to the dinner party:\")\n",
    "diner_invitation = ['ali','zaid']  # List of invited guests = \n",
    "print(f\"Total number of guests invited: {len(diner_invitation)}\")  # Print the total number of guests invited"
   ]
  },
  {
   "cell_type": "markdown",
   "metadata": {},
   "source": [
    "Exercise 3-10: Every Function\n",
    "Think of things you could store in a list. For example, you could make a list of mountains, rivers, countries, cities, languages, or anything else you’d like. Write a program that creates a list containing these items and then uses each function introduced in this chapter at least once"
   ]
  },
  {
   "cell_type": "code",
   "execution_count": 233,
   "metadata": {},
   "outputs": [
    {
     "name": "stdout",
     "output_type": "stream",
     "text": [
      "\n",
      "Original list of languages: ['english', 'arabic', 'urdu', 'french', 'spanish']\n",
      "\n",
      "Sorted list of languages (alphabetical order):\n",
      "['arabic', 'english', 'french', 'spanish', 'urdu']\n",
      "\n",
      "reverse order of the list of languages:\n",
      "Reversed list: ['spanish', 'french', 'urdu', 'arabic', 'english']\n",
      "\n",
      "length of the list of languages:\n",
      "Total number of languages in the list: 5\n",
      "\n",
      "adding 'german' in the list of languages:\n",
      "Updated list of languages:\n",
      "['spanish', 'french', 'urdu', 'arabic', 'english', 'german']\n",
      "\n",
      "removing 'french' from the list of languages:\n",
      "Updated list of languages:\n",
      "['spanish', 'urdu', 'arabic', 'english', 'german']\n",
      "\n",
      "inserting 'italian' in the list of languages:\n",
      "Updated list of languages:\n",
      "['spanish', 'urdu', 'italian', 'arabic', 'english', 'german']\n",
      "\n",
      "removing the last language from the list of languages:\n",
      "Updated list of languages:\n",
      "['spanish', 'urdu', 'italian', 'arabic', 'english']\n",
      "\n",
      "modifying the element in list of languages:\n",
      "Updated list of languages:\n",
      "['spanish', 'japanese', 'italian', 'arabic', 'english']\n",
      "\n",
      "removing the first language from the list of languages:\n",
      "Updated list of languages:\n",
      "['japanese', 'italian', 'arabic', 'english']\n",
      "\n",
      "emptying the list of languages:\n",
      "Updated list of languages:\n",
      "[]\n"
     ]
    }
   ],
   "source": [
    "list_of_languages = ['english', 'arabic', 'urdu', 'french', 'spanish']  # List of languages\n",
    "print(f\"\\nOriginal list of languages: {list_of_languages}\")  # Print the original list of languages\n",
    "\n",
    "print(\"\\nSorted list of languages (alphabetical order):\")\n",
    "print(sorted(list_of_languages))  # Print the sorted list of languages in alphabetical order\n",
    "\n",
    "print(\"\\nreverse order of the list of languages:\")\n",
    "list_of_languages.reverse()  # Reverse the order of the list of languages\n",
    "print(f\"Reversed list: {list_of_languages}\")  # Print the reversed list of languages\n",
    "\n",
    "print(\"\\nlength of the list of languages:\")\n",
    "print(f\"Total number of languages in the list: {len(list_of_languages)}\")  # Print the total number of languages in the list\n",
    "\n",
    "print(\"\\nadding 'german' in the list of languages:\")\n",
    "list_of_languages.append('german')  # Add 'german' to the list of languages\n",
    "print(\"Updated list of languages:\")\n",
    "print(list_of_languages)  # Print the updated list of languages\n",
    "\n",
    "print(\"\\nremoving 'french' from the list of languages:\")\n",
    "list_of_languages.remove('french')  # Remove 'french' from the list of languages\n",
    "print(\"Updated list of languages:\")\n",
    "print(list_of_languages)  # Print the updated list of languages\n",
    "\n",
    "print(\"\\ninserting 'italian' in the list of languages:\")\n",
    "list_of_languages.insert(2, 'italian')  # Insert 'italian' at index 2 in the list of languages\n",
    "print(\"Updated list of languages:\")\n",
    "print(list_of_languages)  # Print the updated list of languages\n",
    "\n",
    "print(\"\\nremoving the last language from the list of languages:\")\n",
    "list_of_languages.pop()  # Remove the last language from the list of languages\n",
    "print(\"Updated list of languages:\")\n",
    "print(list_of_languages)  # Print the updated list of languages\n",
    "\n",
    "print(\"\\nmodifying the element in list of languages:\")\n",
    "list_of_languages[1] = 'japanese'  # Modify the element at index 1 in the list of languages\n",
    "print(\"Updated list of languages:\")\n",
    "print(list_of_languages)  # Print the updated list of languages \n",
    "\n",
    "print(\"\\nremoving the first language from the list of languages:\")\n",
    "del list_of_languages[0]  # Remove the first language from the list of languages\n",
    "print(\"Updated list of languages:\")\n",
    "print(list_of_languages)  # Print the updated list of languages\n",
    "\n",
    "print(\"\\nemptying the list of languages:\")\n",
    "list_of_languages.clear()  # Empty the list of languages\n",
    "print(\"Updated list of languages:\")\n",
    "print(list_of_languages)  # Print the updated list of languages\n",
    "\n",
    "\n"
   ]
  },
  {
   "cell_type": "markdown",
   "metadata": {},
   "source": [
    "Exercise 3-11: Intentional Error\n",
    "If you haven’t received an index error in one of your programs yet, try to make one happen. Change an index in one of your programs to produce an index error. Make sure you correct the error before closing the program."
   ]
  },
  {
   "cell_type": "code",
   "execution_count": 241,
   "metadata": {},
   "outputs": [
    {
     "name": "stdout",
     "output_type": "stream",
     "text": [
      "list of cities: ['lahore', 'karachi', 'islamabad', 'peshawar', 'quetta']\n",
      "IndexError: list index out of range\n"
     ]
    }
   ],
   "source": [
    "list_of_cities = ['lahore', 'karachi', 'islamabad', 'peshawar', 'quetta']  # List of cities\n",
    "print(f\"list of cities: {list_of_cities}\")  # Print the original list of cities\n",
    "try:\n",
    "   print(list_of_cities[10])\n",
    "except IndexError:\n",
    "    print(\"IndexError: list index out of range\")  # Handle the IndexError exception"
   ]
  },
  {
   "cell_type": "markdown",
   "metadata": {},
   "source": [
    "correcting the error\n"
   ]
  },
  {
   "cell_type": "code",
   "execution_count": 238,
   "metadata": {},
   "outputs": [
    {
     "name": "stdout",
     "output_type": "stream",
     "text": [
      "correcting the error by using valid index:\n",
      "lahore\n"
     ]
    }
   ],
   "source": [
    "print(\"correcting the error by using valid index:\")\n",
    "print(list_of_cities[0])  # Print the first element of the list\n"
   ]
  }
 ],
 "metadata": {
  "kernelspec": {
   "display_name": "Python 3",
   "language": "python",
   "name": "python3"
  },
  "language_info": {
   "codemirror_mode": {
    "name": "ipython",
    "version": 3
   },
   "file_extension": ".py",
   "mimetype": "text/x-python",
   "name": "python",
   "nbconvert_exporter": "python",
   "pygments_lexer": "ipython3",
   "version": "3.12.4"
  }
 },
 "nbformat": 4,
 "nbformat_minor": 2
}

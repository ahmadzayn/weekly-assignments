{
 "cells": [
  {
   "cell_type": "markdown",
   "metadata": {},
   "source": [
    "You are developing a ticket pricing system for a cinema. Write a Python program that:\n",
    "\n",
    "Asks the user for their age.\n",
    "Calculates the ticket price based on the following rules:\n",
    "Under 5 years: Free\n",
    "5 to 17 years: $10\n",
    "18 to 60 years: $20\n",
    "Above 60 years: $15"
   ]
  },
  {
   "cell_type": "code",
   "execution_count": 19,
   "metadata": {},
   "outputs": [
    {
     "name": "stdout",
     "output_type": "stream",
     "text": [
      "age: 7\n",
      "ticket price = 10$\n"
     ]
    }
   ],
   "source": [
    "# TICKET PRICE CALCULATOR:\n",
    "\n",
    "# ask the user for their age:\n",
    "age = int(input(\"please enter your age: \"))\n",
    "print(f\"age: {age}\")\n",
    "\n",
    "# check the age of the user and print the ticket price:\n",
    "if age < 5:\n",
    "    print(\"ticket price = 0.00\")\n",
    "elif age >= 5 and age <=17:\n",
    "    print(\"ticket price = 10$\")\n",
    "elif age >= 18 and age <= 64:\n",
    "    print(\"ticket price = 20$\")\n",
    "else:\n",
    "    print(\"ticket price = 15$\")\n"
   ]
  },
  {
   "cell_type": "markdown",
   "metadata": {},
   "source": [
    "Question 2: Meal Recommendation\n",
    "Write a Python program that:\n",
    "\n",
    "Asks the user what time it is in 24-hour format (e.g., 13 for 1 PM, 18 for 6 PM).\n",
    "Recommends a meal based on the time:\n",
    "5 AM to 11 AM: Breakfast\n",
    "12 PM to 4 PM: Lunch\n",
    "5 PM to 9 PM: Dinner\n",
    "10 PM to 4 AM: Late-night Snack"
   ]
  },
  {
   "cell_type": "code",
   "execution_count": 29,
   "metadata": {},
   "outputs": [
    {
     "name": "stdout",
     "output_type": "stream",
     "text": [
      "Meal Recommendation System\n",
      "time: 2\n",
      "It's late-night snack time!\n"
     ]
    }
   ],
   "source": [
    "# MEAL RECOMMENDATION SYSTEM:\n",
    "\n",
    "print(\"Meal Recommendation System\")\n",
    "# Ask the user for the time of the day\n",
    "\n",
    "time = int(input(\"Please enter the time of the day in 24-hour format (e.g., 13 for 1 PM): \"))\n",
    "print(f\"time: {time}\")\n",
    "\n",
    "# Determine the meal recommendation based on the time of the day\n",
    "if time >= 5 and time <= 11:\n",
    "    print(\"It's breakfast time!\")\n",
    "elif time >= 12 and time <= 16:\n",
    "    print(\"It's lunch time!\")\n",
    "elif time >= 17 and time <= 21:\n",
    "    print(\"It's dinner time!\")\n",
    "elif (time >= 22 and time <= 24) or (time >= 0 and time <= 4):  # Late-night snack: covers 10 PM to 4 AM\n",
    "    print(\"It's late-night snack time!\")\n",
    "else:\n",
    "    print(\"Invalid time! Please enter a valid time in 24-hour format (e.g., 13 for 1 PM, 18 for 6 PM).\")\n",
    "\n"
   ]
  },
  {
   "cell_type": "markdown",
   "metadata": {},
   "source": [
    "Question 3: Grocery Bill Calculator\n",
    "Write a Python program that:\n",
    "\n",
    "Takes the price of 5 grocery items as input from the user.\n",
    "Calculates and prints the total bill.\n",
    "If the total bill is more than $100, it applies a 10% discount and prints the discounted total."
   ]
  },
  {
   "cell_type": "code",
   "execution_count": 50,
   "metadata": {},
   "outputs": [
    {
     "name": "stdout",
     "output_type": "stream",
     "text": [
      "bill: ['1000', '2453', '1263', '1237', '1276']\n",
      "total: 7,229.00\n",
      "You get a 10% discount!\n",
      "discounted total: 722.90 \n",
      "\n",
      "total after discount: 6,506.10\n"
     ]
    }
   ],
   "source": [
    "# Ask the user for the prices of 5 items:\n",
    "\n",
    "bill : list = list(input(\"Enter the prices of 5 items: \").split(\" \"))\n",
    "print(f\"bill: {bill}\")\n",
    "\n",
    "\n",
    "# Calculate the total bill\n",
    "\n",
    "total = int(bill[0]) + int(bill[1]) + int(bill[2]) + int(bill[3]) + int(bill[4])\n",
    "print(f\"total: {total:,.2f}\")        # Display the total bill\n",
    "\n",
    "# Apply a discount of 10% if the total bill is 100 or more\n",
    "if total >= 100:\n",
    "    print(\"You get a 10% discount!\")\n",
    "    discount = total * 0.10\n",
    "    print(f\"discounted total: {discount:,.2f} \")\n",
    "    print(f\"\\ntotal after discount: {total - discount:,.2f}\")\n",
    "else:\n",
    "    print(\"You get no discount.\")\n",
    "    print(f\"total: {total:,.2f}\")     # display the total bill without discount with 2 decimal places separated by a comma"
   ]
  },
  {
   "cell_type": "markdown",
   "metadata": {},
   "source": [
    "Question 4: Username Validator\n",
    "Write a Python program that:\n",
    "\n",
    "Asks the user to input a username.\n",
    "Checks if the username is valid using the following rules:\n",
    "The username must be between 5 and 15 characters long.\n",
    "The username must start with a letter (A-Z or a-z).\n",
    "Prints whether the username is valid or not."
   ]
  },
  {
   "cell_type": "code",
   "execution_count": null,
   "metadata": {},
   "outputs": [
    {
     "name": "stdout",
     "output_type": "stream",
     "text": [
      "ahmad zain\n",
      "valid username\n"
     ]
    }
   ],
   "source": [
    "#name check validator\n",
    "user_name = input(\"enter a name: \")\n",
    "print(user_name)\n",
    "\n",
    "# check if the name is valid:\n",
    "\n",
    "if len(user_name) >= 4 and len(user_name) <= 20:              # number letter between 5 and 15\n",
    "    if user_name[0].isalpha():                                # first letter is alphabet\n",
    "        print(\"valid username\")                               # both the conditions are true then valid name\n",
    "    else:\n",
    "        print(\"invalid name! name must start with an alphabet\")\n",
    "else:\n",
    "    print(\"invalid name! name must be between 5 and 20 characters long\")\n",
    "    \n",
    "       "
   ]
  },
  {
   "cell_type": "markdown",
   "metadata": {},
   "source": [
    "Question 5: Travel Destination Suggestion\n",
    "Write a Python program that:\n",
    "\n",
    "Asks the user for their preferred weather (Sunny, Rainy, or Snowy).\n",
    "Suggests a travel destination based on the weather:\n",
    "Sunny: \"Go to the beach!\"\n",
    "Rainy: \"Visit a cozy mountain lodge!\"\n",
    "Snowy: \"Time for a ski trip!\""
   ]
  },
  {
   "cell_type": "code",
   "execution_count": 80,
   "metadata": {},
   "outputs": [
    {
     "name": "stdout",
     "output_type": "stream",
     "text": [
      "travel recommendation system:\n",
      "weather: snowy\n",
      "'time for a ski trip!'\n"
     ]
    }
   ],
   "source": [
    "# TRAVEL RECOMMENDATION SYSTEM:\n",
    "\n",
    "# Ask the user for their preferred weather\n",
    "print(\"travel recommendation system:\")\n",
    "preferred_weather = input(\"Enter your preferred weather (sunny, rainy, snowy, windy): \").lower()\n",
    "print(f\"weather: {preferred_weather}\")\n",
    "\n",
    "# Provide travel recommendations based on the preferred weather\n",
    "if preferred_weather == \"sunny\":\n",
    "    print(\"Go to beach.\")\n",
    "elif preferred_weather == \"rainy\":\n",
    "    print(\"'visit a cozy mountain lodge!'\")\n",
    "elif preferred_weather == \"snowy\":\n",
    "    print(\"'time for a ski trip!'\")\n",
    "elif preferred_weather == \"windy\":\n",
    "    print(\"fly a kite!\")\n",
    "else:\n",
    "    print(\"Invalid weather preference! Please enter sunny, rainy, snowy, or windy.\")"
   ]
  },
  {
   "cell_type": "markdown",
   "metadata": {},
   "source": [
    "Question 6: Discount Eligibility Checker\n",
    "A store is running a promotion where customers get a 15% discount if:\n",
    "\n",
    "They spend more than $200 or\n",
    "They are a member of the store’s loyalty program.\n",
    "Write a Python program that:\n",
    "\n",
    "Asks the user for the total amount spent.\n",
    "Asks whether the user is a loyalty program member (Yes/No).\n",
    "Prints whether the user is eligible for the discount."
   ]
  },
  {
   "cell_type": "code",
   "execution_count": null,
   "metadata": {},
   "outputs": [
    {
     "name": "stdout",
     "output_type": "stream",
     "text": [
      "total spent: 100$\n",
      "membership: yes\n",
      "You get a discount of 15%!\n"
     ]
    }
   ],
   "source": [
    "#discount calculator\n",
    "\n",
    "\n",
    "# Ask the user for the amount they want to spend:\n",
    "spent = int(input(\"Enter the amount you want to spend: \"))\n",
    "print(f\"total spent: {spent}$\")\n",
    "\n",
    "# Check if the user is eligible for a discount:\n",
    "if spent >= 200:                                     # if user spend more than 200$ then 15% discount will be given\n",
    "    membership = input(\"Do you have a membership of store's loyalty program? (yes/no): \").lower()\n",
    "    print(f\"membership: {membership}\")\n",
    "    print(\"You get a discount of 15%!\")\n",
    "    \n",
    "else:\n",
    "    ask = input(\"Do you have a membership of store's loyalty program? (yes/no): \").lower()\n",
    "    print(f\"membership: {ask}\")\n",
    "    if ask == \"yes\":                                 # if user has membership then 15% discount will be given\n",
    "        print(\"You get a discount of 15%!\")     \n",
    "    else:\n",
    "        print(\"You get no discount! you have to spend more than 200$ or have a membership of store's loyalty program to get discount.\")\n"
   ]
  },
  {
   "cell_type": "markdown",
   "metadata": {},
   "source": []
  },
  {
   "cell_type": "markdown",
   "metadata": {},
   "source": [
    "Question 7: Event Invitation\n",
    "You are planning an event and want to create a simple guest invitation checker. Write a Python program that:\n",
    "\n",
    "Takes a list of 5 guests who are invited to the event.\n",
    "Asks the user to enter their name.\n",
    "Prints whether the user is invited or not."
   ]
  },
  {
   "cell_type": "code",
   "execution_count": null,
   "metadata": {},
   "outputs": [
    {
     "name": "stdout",
     "output_type": "stream",
     "text": [
      "guest: ['ahmad', 'abdul', 'shaban', 'saim', 'ali']\n",
      "enter user name: ahmad\n",
      "user name: ahmad\n",
      "You are invited!\n"
     ]
    }
   ],
   "source": [
    "#guest list\n",
    "\n",
    "# Ask for the names of guests:\n",
    "guest_list = list(input(\"Enter the names of guests separated by commas: \").lower().split(\",\")) # split the input string by commas and convert to lowercase\n",
    "print(f\"guest: {guest_list}\")\n",
    "\n",
    "# Ask the user for their name:\n",
    "user_name = input(\"Enter your name: \").strip().lower()  # remove leading/trailing whitespaces and convert to lowercase\n",
    "print(f\"enter user name: {user_name}\")\n",
    "print(f\"user name: {user_name}\")\n",
    "\n",
    "# Check if the user is invited:\n",
    "\n",
    "if user_name in guest_list:\n",
    "    print(\"You are invited!\")\n",
    "else:\n",
    "    print(\"You are not invited!\")"
   ]
  },
  {
   "cell_type": "markdown",
   "metadata": {},
   "source": [
    "Question 8: Movie Streaming Eligibility\n",
    "A streaming platform allows users to watch certain movies based on the following criteria:\n",
    "\n",
    "\"Action Movies\" can be watched by users aged 18 and above.\n",
    "\"Animated Movies\" can be watched by users of any age.\n",
    "\"Documentaries\" can be watched by users aged 12 and above.\n",
    "Write a Python program that:\n",
    "\n",
    "Asks the user for their age and the type of movie they want to watch.\n",
    "Prints whether they are eligible to watch that type of movie."
   ]
  },
  {
   "cell_type": "code",
   "execution_count": null,
   "metadata": {},
   "outputs": [
    {
     "name": "stdout",
     "output_type": "stream",
     "text": [
      "age: 15\n",
      "movie type: action movies\n",
      "You are too young to watch action movies!\n"
     ]
    }
   ],
   "source": [
    "#movie recommendation system:\n",
    "\n",
    "# Ask the user for their age and the movie they want to watch\n",
    "age = int(input(\"Enter your age: \"))\n",
    "print(f\"age: {age}\")\n",
    "movie_user = input(\"Enter the movie you want to watch: \").lower()\n",
    "print(f\"movie type: {movie_user}\")\n",
    "\n",
    "# Check the age and movie type to recommend the movie\n",
    "if movie_user == \"action movies\":\n",
    "    if age >= 18:\n",
    "        print(\"You can watch action movies!\")\n",
    "    else:\n",
    "        print(\"You are too young to watch action movies!\")\n",
    "elif movie_user == \"documentaries\":\n",
    "    if age >= 12:\n",
    "        print(\"You can watch documentaries!\")\n",
    "    else:\n",
    "        print(\"You are too young to watch documentaries!\")\n",
    "elif movie_user == \"animated movies\":\n",
    "    print(\"You can watch animated movies, there is no age restriction!\")\n",
    "else:\n",
    "    print(\"Invalid movie choice! Please choose from action movies, documentaries, or animated movies.\")\n",
    "    "
   ]
  },
  {
   "cell_type": "markdown",
   "metadata": {},
   "source": [
    "Question 9: Phone Number Formatter\n",
    "Write a Python program that:\n",
    "\n",
    "Takes a phone number as input from the user in the format 1234567890.\n",
    "Formats the number into the standard format (123) 456-7890.\n",
    "Prints the formatted phone number."
   ]
  },
  {
   "cell_type": "code",
   "execution_count": 143,
   "metadata": {},
   "outputs": [
    {
     "name": "stdout",
     "output_type": "stream",
     "text": [
      "phone number: 3140062714\n",
      "number: (314)-006-2714\n"
     ]
    }
   ],
   "source": [
    "#phone number validator:\n",
    "# Ask the user for their phone number\n",
    "enter_phone_number = (input(\"Enter your phone number: \"))\n",
    "print(f\"phone number: {enter_phone_number}\")\n",
    "\n",
    "# Check if the phone number is valid and print it in the format (123)-456-7890\n",
    "if len(enter_phone_number) == 10:\n",
    "    print(f\"number: ({enter_phone_number[0:3]})-{enter_phone_number[3:6]}-{enter_phone_number[6:12]}\")\n",
    "else:\n",
    "    print(\"Invalid phone number! Please enter a valid 10-digit phone number without any spaces or special characters.\")"
   ]
  },
  {
   "cell_type": "markdown",
   "metadata": {},
   "source": [
    "Question 10: Package Shipping Cost\n",
    "A shipping company charges different rates based on the weight of the package:\n",
    "\n",
    "For packages up to 1 kg, the cost is $5.\n",
    "For packages between 1 and 5 kg, the cost is $10.\n",
    "For packages between 5 and 20 kg, the cost is $20.\n",
    "For packages above 20 kg, the cost is $50.\n",
    "Write a Python program that:\n",
    "\n",
    "Takes the weight of the package as input from the user.\n",
    "Prints the shipping cost."
   ]
  },
  {
   "cell_type": "code",
   "execution_count": null,
   "metadata": {},
   "outputs": [
    {
     "name": "stdout",
     "output_type": "stream",
     "text": [
      "package weight: 15kg\n",
      "Shipping cost: 20$\n"
     ]
    }
   ],
   "source": [
    "# Ask the user for the weight of the package\n",
    "\n",
    "package_weight: int = int(input(\"Enter the weight of the package: \"))\n",
    "print(f\"package weight: {package_weight}kg\") \n",
    "\n",
    "# Calculate the shipping cost based on the weight of the package\n",
    "if package_weight <= 1:\n",
    "    print(\"Shipping cost: 5$\")\n",
    "elif package_weight > 1 and package_weight <= 5:\n",
    "    print(\"Shipping cost: 10$\")\n",
    "elif package_weight > 5 and package_weight <= 20:\n",
    "    print(\"Shipping cost: 20$\")\n",
    "else:\n",
    "    print(\"Shipping cost: 50$\")"
   ]
  },
  {
   "cell_type": "markdown",
   "metadata": {},
   "source": [
    "Question 11: Student Grading System\n",
    "You are building a simple grading system for a school. Write a Python program that:\n",
    "\n",
    "Asks the user to input the marks of a student in five subjects. (Each subject has a maximum of 100 marks.)\n",
    "Calculates the total marks and the percentage.\n",
    "Prints the grade based on the following criteria:\n",
    "90% and above: Grade A\n",
    "80% to 89%: Grade B\n",
    "70% to 79%: Grade C\n",
    "60% to 69%: Grade D\n",
    "Below 60%: Grade F\n",
    "Prints whether the student passed or failed.\n",
    "A student is considered passed if they score 60% or more in all subjects."
   ]
  },
  {
   "cell_type": "code",
   "execution_count": null,
   "metadata": {},
   "outputs": [
    {
     "name": "stdout",
     "output_type": "stream",
     "text": [
      "Grading system for a school.\n"
     ]
    },
    {
     "name": "stdout",
     "output_type": "stream",
     "text": [
      "marks in subject 1: 98\n",
      "marks in subject 2: 78\n",
      "marks in subject 3: 98\n",
      "marks in subject 4: 67\n",
      "marks in subject 5: 76\n",
      "\n",
      "Total marks: 421\n",
      "Percentage: 84.20%\n",
      "Grade: B\n",
      "status: pass\n"
     ]
    }
   ],
   "source": [
    "print(\"Grading system for a school.\")\n",
    "\n",
    "# ask the user for the marks of 5 subjects:\n",
    "subject1 = int(input(\"Enter your subject 1 marks: \"))\n",
    "print(f\"marks in subject 1: {subject1}\")\n",
    "subject2 = int(input(\"Enter your subject 2 marks: \"))\n",
    "print(f\"marks in subject 2: {subject2}\")\n",
    "subject3 = int(input(\"Enter your subject 3 marks: \"))\n",
    "print(f\"marks in subject 3: {subject3}\")\n",
    "subject4 = int(input(\"Enter your subject 4 marks: \"))\n",
    "print(f\"marks in subject 4: {subject4}\")\n",
    "subject5 = int(input(\"Enter your subject 5 marks: \"))\n",
    "print(f\"marks in subject 5: {subject5}\")\n",
    "\n",
    "# Calculate the total marks, percentage, and grade\n",
    "Total = subject1 + subject2 + subject3 + subject4 + subject5\n",
    "print(f\"\\nTotal marks: {total}\")\n",
    "percentage = total / 500 * 100\n",
    "print(f\"Percentage: {percentage:.2f}%\")\n",
    "\n",
    "# Calculate the grade based on the percentage:\n",
    "if percentage >= 90:\n",
    "    print(\"Grade: A\")\n",
    "    if subject1 >60 and subject2 >60 and subject3 >60 and subject4 >60 and subject5 >60:\n",
    "        print(\"status: pass\")\n",
    "    else:\n",
    "        print(\"status: fail\")\n",
    "elif percentage >= 80 and percentage < 90:\n",
    "    print(\"Grade: B\")\n",
    "    if subject1 >60 and subject2 >60 and subject3 >60 and subject4 >60 and subject5 >60:\n",
    "        print(\"status: pass\")\n",
    "    else:\n",
    "        print(\"status: fail\")\n",
    "elif percentage >= 70 and percentage < 80:\n",
    "    print(\"Grade: C\")\n",
    "    if subject1 >60 and subject2 >60 and subject3 >60 and subject4 >60 and subject5 >60:\n",
    "        print(\"status: pass\")\n",
    "    else:\n",
    "        print(\"status: fail\")\n",
    "elif percentage >= 60 and percentage < 70:\n",
    "    print(\"Grade: D\")\n",
    "    if subject1 >60 and subject2 >60 and subject3 >60 and subject4 >60 and subject5 >60:\n",
    "        print(\"status: pass\")\n",
    "    else:\n",
    "        print(\"status: fail\")\n",
    "elif percentage < 60:\n",
    "    print(\"Grade: F\")\n",
    "    if subject1 >60 and subject2 >60 and subject3 >60 and subject4 >60 and subject5 >60:\n",
    "        print(\"status: pass\")\n",
    "    else:\n",
    "        print(\"status: fail\")\n",
    "else:\n",
    "    print(\"Invalid marks! Please enter marks between 0 and 100.\") # if the marks are not between 0 and 100\n"
   ]
  }
 ],
 "metadata": {
  "kernelspec": {
   "display_name": "Python 3",
   "language": "python",
   "name": "python3"
  },
  "language_info": {
   "codemirror_mode": {
    "name": "ipython",
    "version": 3
   },
   "file_extension": ".py",
   "mimetype": "text/x-python",
   "name": "python",
   "nbconvert_exporter": "python",
   "pygments_lexer": "ipython3",
   "version": "3.12.4"
  }
 },
 "nbformat": 4,
 "nbformat_minor": 2
}
